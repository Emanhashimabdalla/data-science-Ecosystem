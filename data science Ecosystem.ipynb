{
 "cells": [
  {
   "cell_type": "markdown",
   "id": "d6ac4d0a-7733-4e60-9065-ccb68d26198e",
   "metadata": {},
   "source": [
    "# Data science Ecosystem"
   ]
  },
  {
   "cell_type": "markdown",
   "id": "6cae7589-b92a-4d4d-aeb5-ffb84575d081",
   "metadata": {},
   "source": [
    "# in this notebook , data science summarized storing and transforming data, while providing data visualization with the aim of communicating ideas better and obtaining models that enable the construction ,dissmination monitoring and evalution of data and machine learning models.  "
   ]
  },
  {
   "cell_type": "markdown",
   "id": "24ce790c-f59f-42fc-bf17-52ad2ce0f1d3",
   "metadata": {},
   "source": [
    "# objectives:\n",
    "* jupyter notebooks are used in data science to record experiments and projects.\n",
    "* jupyter lab is compatible with many files and data science languages.\n",
    "* there is different way to install and use jupyter notebooks.\n"
   ]
  },
  {
   "cell_type": "markdown",
   "id": "72d19a6c-a3b7-4f0e-b722-18af4c1be414",
   "metadata": {
    "tags": []
   },
   "source": [
    "# there is tybe of programing languages:\n",
    "1. python\n",
    "2. R\n",
    "3. C++\n",
    "4. julia"
   ]
  },
  {
   "cell_type": "markdown",
   "id": "c7fa9369-9156-4134-94a6-c75d4cfe2876",
   "metadata": {
    "tags": []
   },
   "source": [
    "# some of the commonly used libraries used by data scientists in clude:\n",
    "1. data sits\n",
    "2. gg plots\n",
    "3. GGally"
   ]
  },
  {
   "cell_type": "markdown",
   "id": "872804a4-788d-4726-b007-0052ee109a7b",
   "metadata": {},
   "source": [
    "# there is different of open source:\n",
    "|tools|\n",
    "|----|\n",
    "|get|\n",
    "|get hup|\n",
    "|watson studio|"
   ]
  },
  {
   "cell_type": "markdown",
   "id": "a8d24d86-df6d-4635-9805-918087dc0ae7",
   "metadata": {},
   "source": [
    "### Below are a few examples of evaluating arithmetic expressions in python :\n",
    "1. 5+(3-2)\n",
    "2. x>5\n",
    "3. y<7\n",
    "4. z=x+y\n"
   ]
  },
  {
   "cell_type": "markdown",
   "id": "501d5118-7f76-44e3-8536-23b2e6311190",
   "metadata": {},
   "source": [
    "### this a simple arithmetic expression to multiply then add integers :\n",
    " 2+(3*5)\n",
    " "
   ]
  },
  {
   "cell_type": "code",
   "execution_count": 2,
   "id": "ca859118-f258-4d6e-9106-71d0113b5aa3",
   "metadata": {
    "tags": []
   },
   "outputs": [
    {
     "data": {
      "text/plain": [
       "17"
      ]
     },
     "execution_count": 2,
     "metadata": {},
     "output_type": "execute_result"
    }
   ],
   "source": [
    "2+(3*5)"
   ]
  },
  {
   "cell_type": "markdown",
   "id": "6190de29-4883-478f-acbd-a1c2b48f2c0a",
   "metadata": {},
   "source": [
    "# software code that converts 200 minute into hours:\n",
    "# 60X=200\n",
    "# x=200/60."
   ]
  },
  {
   "cell_type": "markdown",
   "id": "3c9d97af-8ed2-4a55-bd98-fa046f73e8e3",
   "metadata": {},
   "source": [
    "# author :\n",
    "## lakshmi holla \n",
    "## niveditha pandith\n",
    "# my name :\n",
    "# eman hashim abdall\n"
   ]
  },
  {
   "cell_type": "code",
   "execution_count": null,
   "id": "a415dcc0-572e-4bed-bb2b-27bca19cc17a",
   "metadata": {},
   "outputs": [],
   "source": []
  }
 ],
 "metadata": {
  "kernelspec": {
   "display_name": "Python",
   "language": "python",
   "name": "conda-env-python-py"
  },
  "language_info": {
   "codemirror_mode": {
    "name": "ipython",
    "version": 3
   },
   "file_extension": ".py",
   "mimetype": "text/x-python",
   "name": "python",
   "nbconvert_exporter": "python",
   "pygments_lexer": "ipython3",
   "version": "3.7.12"
  }
 },
 "nbformat": 4,
 "nbformat_minor": 5
}
